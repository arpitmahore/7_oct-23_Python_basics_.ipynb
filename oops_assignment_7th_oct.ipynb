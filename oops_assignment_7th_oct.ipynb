{
  "nbformat": 4,
  "nbformat_minor": 0,
  "metadata": {
    "colab": {
      "provenance": [],
      "collapsed_sections": [
        "gpjfYGFPl71F",
        "D_XsV6nByNuW"
      ]
    },
    "kernelspec": {
      "name": "python3",
      "display_name": "Python 3"
    },
    "language_info": {
      "name": "python"
    }
  },
  "cells": [
    {
      "cell_type": "markdown",
      "source": [
        "# Problem 1: Bank Account Create a class representing a bank account with attributes like account number, account holder name, and balance. Implement methods to deposit and withdraw money from the account."
      ],
      "metadata": {
        "id": "gpjfYGFPl71F"
      }
    },
    {
      "cell_type": "code",
      "execution_count": null,
      "metadata": {
        "id": "qt9wMzgOdO7-"
      },
      "outputs": [],
      "source": [
        "# Creat Class of bank account with ditails\n",
        "class BankAccount:\n",
        "\n",
        "  def __init__ (self,account_number, account_holder, balance = 0.0):\n",
        "    self.account_number = account_number\n",
        "    self.account_holder = account_holder\n",
        "    self.balance = balance\n",
        "\n",
        "#give deposit and withdraw logic\n",
        "\n",
        "  def deposit(self , amount):\n",
        "    if amount > 0:\n",
        "      self.balance += amount\n",
        "      print(f\"Deposited ₹{amount}. New balance: ₹{self.balance}\")\n",
        "    else:\n",
        "      print(\"Invelid amount\")\n",
        "\n",
        "  def withdraw(self , amount):\n",
        "    if amount > 0:\n",
        "      if amount <= self.balance:\n",
        "        self.balance -= amount\n",
        "        print(f\"Withdraw ₹{amount}. New Balance: ₹{self.balance}\")\n",
        "      else:\n",
        "        print(\"Insufficient funds.\")\n",
        "    else:\n",
        "      print(\"Invelid amount\")\n",
        "\n",
        "  def get_balance(self):\n",
        "    return self.balance\n",
        "\n",
        "  def get_account_details(self):\n",
        "    return f\"Account Number: {self.account_number} \\nAccount Holder: {self.account_holder} \\nBalance: ${self.balance}\""
      ]
    },
    {
      "cell_type": "code",
      "source": [
        "# Creat Bank Account (Account Number, Name, Balance)\n",
        "account1 = BankAccount(\"001\", \"Ketul Luhar\", 2500.0)"
      ],
      "metadata": {
        "id": "QKzpBBXlihdA"
      },
      "execution_count": null,
      "outputs": []
    },
    {
      "cell_type": "code",
      "source": [
        "account1.deposit(100)"
      ],
      "metadata": {
        "colab": {
          "base_uri": "https://localhost:8080/"
        },
        "id": "XfxELRjfiznw",
        "outputId": "fac1aa15-f227-4ed7-ff1a-72bbc555afaa"
      },
      "execution_count": null,
      "outputs": [
        {
          "output_type": "stream",
          "name": "stdout",
          "text": [
            "Deposited ₹100. New balance: ₹2600.0\n"
          ]
        }
      ]
    },
    {
      "cell_type": "code",
      "source": [
        "account1.withdraw(2600)"
      ],
      "metadata": {
        "colab": {
          "base_uri": "https://localhost:8080/"
        },
        "id": "viRKks8Gi4xE",
        "outputId": "00ab2349-f2d5-4556-c5e9-eeb0a76c2196"
      },
      "execution_count": null,
      "outputs": [
        {
          "output_type": "stream",
          "name": "stdout",
          "text": [
            "Withdraw ₹2600. New Balance: ₹0.0\n"
          ]
        }
      ]
    },
    {
      "cell_type": "code",
      "source": [
        "account1.deposit(25000)"
      ],
      "metadata": {
        "colab": {
          "base_uri": "https://localhost:8080/"
        },
        "id": "iFVv5pJFlnFk",
        "outputId": "0bfcc8cb-7706-44c1-d805-6dabc88cbe15"
      },
      "execution_count": null,
      "outputs": [
        {
          "output_type": "stream",
          "name": "stdout",
          "text": [
            "Deposited ₹25000. New balance: ₹25000.0\n"
          ]
        }
      ]
    },
    {
      "cell_type": "code",
      "source": [
        "account1.get_balance()"
      ],
      "metadata": {
        "colab": {
          "base_uri": "https://localhost:8080/"
        },
        "id": "wLm8MtyMj1Ex",
        "outputId": "0504d3e6-9467-49d9-ec07-6cdffd7c2c05"
      },
      "execution_count": null,
      "outputs": [
        {
          "output_type": "execute_result",
          "data": {
            "text/plain": [
              "25000.0"
            ]
          },
          "metadata": {},
          "execution_count": 69
        }
      ]
    },
    {
      "cell_type": "code",
      "source": [
        "account1.get_account_details()"
      ],
      "metadata": {
        "colab": {
          "base_uri": "https://localhost:8080/",
          "height": 36
        },
        "id": "oSMIhEOelaP3",
        "outputId": "7ac69db3-c7ac-4d09-b700-aa88838713f3"
      },
      "execution_count": null,
      "outputs": [
        {
          "output_type": "execute_result",
          "data": {
            "text/plain": [
              "'Account Number: 001\\nAccount Holder: Ketul Luhar\\nBalance: $25000.0'"
            ],
            "application/vnd.google.colaboratory.intrinsic+json": {
              "type": "string"
            }
          },
          "metadata": {},
          "execution_count": 70
        }
      ]
    },
    {
      "cell_type": "code",
      "source": [],
      "metadata": {
        "id": "Z9_JtIJtmrx-"
      },
      "execution_count": null,
      "outputs": []
    },
    {
      "cell_type": "markdown",
      "source": [
        "# Problem 2: Employee Management Create a class representing an employee with attributes like employee ID, name, and salary. Implement methods to calculate the yearly bonus and display employee details."
      ],
      "metadata": {
        "id": "D_XsV6nByNuW"
      }
    },
    {
      "cell_type": "code",
      "source": [
        "# Creat class taht inclued employee_ID, employee_name and salary\n",
        "\n",
        "class Employee_Management:\n",
        "\n",
        "  def __init__(self, employee_ID, employee_name, salary):\n",
        "    self.employee_ID = employee_ID\n",
        "    self.employee_name = employee_name\n",
        "    self.salary = salary\n",
        "\n",
        "# defin bonus calcate logic\n",
        "\n",
        "  def calculate_yearly_bonus(self, bonus_percentage):\n",
        "    if bonus_percentage >= 0:\n",
        "      bouns = (bonus_percentage / 100) * self.salary\n",
        "      return bouns\n",
        "    else:\n",
        "      return 0\n",
        "\n",
        "  def employee_ditails(self):\n",
        "    return f\"employee_ID: {self.employee_ID}\\nemployee_name: {self.employee_name}\\nemployee_salary:{self.salary}\"\n"
      ],
      "metadata": {
        "id": "FUBMWBrwyQiW"
      },
      "execution_count": null,
      "outputs": []
    },
    {
      "cell_type": "code",
      "source": [
        "employee1 = Employee_Management(\"001\", \"Ketul\", 25000)"
      ],
      "metadata": {
        "id": "zYiCqMKdzagM"
      },
      "execution_count": null,
      "outputs": []
    },
    {
      "cell_type": "code",
      "source": [
        "employee1.employee_ditails()"
      ],
      "metadata": {
        "colab": {
          "base_uri": "https://localhost:8080/",
          "height": 36
        },
        "id": "HKvF6P5Szjmv",
        "outputId": "d23cdc41-36fa-4902-98d7-b08a82b03672"
      },
      "execution_count": null,
      "outputs": [
        {
          "output_type": "execute_result",
          "data": {
            "text/plain": [
              "'employee_ID: 001\\nemployee_name: Ketul\\nemployee_salary:25000'"
            ],
            "application/vnd.google.colaboratory.intrinsic+json": {
              "type": "string"
            }
          },
          "metadata": {},
          "execution_count": 95
        }
      ]
    },
    {
      "cell_type": "code",
      "source": [
        "employee1.calculate_yearly_bonus(20)"
      ],
      "metadata": {
        "colab": {
          "base_uri": "https://localhost:8080/"
        },
        "id": "H2XK2rGN0cZy",
        "outputId": "da603ac5-4a29-4296-cc3d-a1aa6693c0ca"
      },
      "execution_count": null,
      "outputs": [
        {
          "output_type": "execute_result",
          "data": {
            "text/plain": [
              "5000.0"
            ]
          },
          "metadata": {},
          "execution_count": 96
        }
      ]
    },
    {
      "cell_type": "markdown",
      "source": [
        "# Problem 3: Vehicle Rental Create a class representing a vehicle rental system. Implement methods to rent a vehicle, return a vehicle, and display available vehicles"
      ],
      "metadata": {
        "id": "EBhw6Bt2BPac"
      }
    },
    {
      "cell_type": "code",
      "source": [
        "class VehicleRentalSystem:\n",
        "\n",
        "  def __init__ (self):\n",
        "    self.available_vehicles = {}\n",
        "\n",
        "  def add_vehicals(self, vehicle_id, vehicle_type):\n",
        "    if vehicle_id not in self.available_vehicles:\n",
        "      self.available_vehicles[vehicle_id] = vehicle_type\n",
        "      print(f\"Added {vehicle_type}(ID: {vehicle_id}) to the Available vehicles\")\n",
        "    else:\n",
        "      print(\"Vehicle allrey available\")\n",
        "\n",
        "  def rent_vehicals(self, vehicle_id):\n",
        "      if vehicle_id in self.available_vehicles:\n",
        "        vehicle_type = self.available_vehicles.pop(vehicle_id)\n",
        "        print(f\"Rented {vehicle_type} (ID {vehicle_id})\")\n",
        "\n",
        "  def display_available_vehicles(self):\n",
        "    if not self.available_vehicles:\n",
        "      print(\"No Vehicles Availables\")\n",
        "    else:\n",
        "      print(\"Available Vehicals\")\n",
        "      for vehicle_id, vehicle_type in self.available_vehicles.items():\n",
        "        print(f\"ID: {vehicle_id}, Vehicle_type: {vehicle_type}\")\n",
        "\n",
        "  def retun_vehicals(self, vehicle_id, vehicle_type):\n",
        "    if vehicle_id not in self.available_vehicles:\n",
        "      self.available_vehicles[vehicle_id] = vehicle_type\n",
        "      print(f\"Added {vehicle_type}(ID: {vehicle_id}) to the Available vehicles\")\n",
        "    else:\n",
        "      print(\"Vehicle allrey available\")\n"
      ],
      "metadata": {
        "id": "JUEX-DbJBURH"
      },
      "execution_count": null,
      "outputs": []
    },
    {
      "cell_type": "code",
      "source": [
        "rental_system = VehicleRentalSystem()"
      ],
      "metadata": {
        "id": "2NVsMmJeHAu7"
      },
      "execution_count": null,
      "outputs": []
    },
    {
      "cell_type": "code",
      "source": [
        "rental_system.display_available_vehicles()"
      ],
      "metadata": {
        "colab": {
          "base_uri": "https://localhost:8080/"
        },
        "id": "FoVrSJ3wHGYH",
        "outputId": "49760792-8a6d-4576-aaaa-c32d53eccbee"
      },
      "execution_count": null,
      "outputs": [
        {
          "output_type": "stream",
          "name": "stdout",
          "text": [
            "No Vehicles Availables\n"
          ]
        }
      ]
    },
    {
      "cell_type": "code",
      "source": [
        "rental_system.add_vehicals(\"001\", \"Car\")\n",
        "rental_system.add_vehicals(\"002\", \"Bike\")\n",
        "rental_system.add_vehicals(\"003\", \"Activa\")\n",
        "rental_system.add_vehicals(\"004\", \"Scooter\")\n",
        "rental_system.add_vehicals(\"005\", \"Activa_i\")"
      ],
      "metadata": {
        "colab": {
          "base_uri": "https://localhost:8080/"
        },
        "id": "KxyCaH03HLKx",
        "outputId": "c41a78a9-0da7-4ef5-f16c-6f687019047b"
      },
      "execution_count": null,
      "outputs": [
        {
          "output_type": "stream",
          "name": "stdout",
          "text": [
            "Added Car(ID: 001) to the Available vehicles\n",
            "Added Bike(ID: 002) to the Available vehicles\n",
            "Added Activa(ID: 003) to the Available vehicles\n",
            "Added Scooter(ID: 004) to the Available vehicles\n",
            "Added Activa_i(ID: 005) to the Available vehicles\n"
          ]
        }
      ]
    },
    {
      "cell_type": "code",
      "source": [
        "rental_system.display_available_vehicles()"
      ],
      "metadata": {
        "colab": {
          "base_uri": "https://localhost:8080/"
        },
        "id": "D0mkOLVZIE0y",
        "outputId": "387a54a3-2b1e-4bca-f3c3-14c6030ffb86"
      },
      "execution_count": null,
      "outputs": [
        {
          "output_type": "stream",
          "name": "stdout",
          "text": [
            "Available Vehicals\n",
            "ID: 001, Vehicle_type: Car\n",
            "ID: 002, Vehicle_type: Bike\n",
            "ID: 003, Vehicle_type: Activa\n",
            "ID: 004, Vehicle_type: Scooter\n",
            "ID: 005, Vehicle_type: Activa_i\n"
          ]
        }
      ]
    },
    {
      "cell_type": "code",
      "source": [
        "rental_system.rent_vehicals(\"002\")"
      ],
      "metadata": {
        "colab": {
          "base_uri": "https://localhost:8080/"
        },
        "id": "4BSJVILqJpwR",
        "outputId": "885fb7d7-3a4d-44fb-e6c6-2881923b2880"
      },
      "execution_count": null,
      "outputs": [
        {
          "output_type": "stream",
          "name": "stdout",
          "text": [
            "Rented Bike (ID 002)\n"
          ]
        }
      ]
    },
    {
      "cell_type": "code",
      "source": [
        "rental_system.display_available_vehicles()"
      ],
      "metadata": {
        "colab": {
          "base_uri": "https://localhost:8080/"
        },
        "id": "X_bdcGj8J-9s",
        "outputId": "694c15c3-2525-4e71-9c06-c2fede937651"
      },
      "execution_count": null,
      "outputs": [
        {
          "output_type": "stream",
          "name": "stdout",
          "text": [
            "Available Vehicals\n",
            "ID: 001, Vehicle_type: Car\n",
            "ID: 003, Vehicle_type: Activa\n",
            "ID: 004, Vehicle_type: Scooter\n",
            "ID: 005, Vehicle_type: Activa_i\n"
          ]
        }
      ]
    },
    {
      "cell_type": "code",
      "source": [
        "rental_system.retun_vehicals(\"002\", \"Bike\")"
      ],
      "metadata": {
        "colab": {
          "base_uri": "https://localhost:8080/"
        },
        "id": "c5rf8S-YJGup",
        "outputId": "09b89ee2-582a-415d-9f98-230cb1defccb"
      },
      "execution_count": null,
      "outputs": [
        {
          "output_type": "stream",
          "name": "stdout",
          "text": [
            "Added Bike(ID: 002) to the Available vehicles\n"
          ]
        }
      ]
    },
    {
      "cell_type": "code",
      "source": [
        "rental_system.display_available_vehicles()"
      ],
      "metadata": {
        "colab": {
          "base_uri": "https://localhost:8080/"
        },
        "id": "gzI3maeHJoeT",
        "outputId": "e11b35fe-4451-43a9-ffc8-4965d7afabfb"
      },
      "execution_count": null,
      "outputs": [
        {
          "output_type": "stream",
          "name": "stdout",
          "text": [
            "Available Vehicals\n",
            "ID: 001, Vehicle_type: Car\n",
            "ID: 003, Vehicle_type: Activa\n",
            "ID: 004, Vehicle_type: Scooter\n",
            "ID: 005, Vehicle_type: Activa_i\n",
            "ID: 002, Vehicle_type: Bike\n"
          ]
        }
      ]
    },
    {
      "cell_type": "markdown",
      "source": [
        "# Problem 4: Library Catalog Create classes representing a library and a book. Implement methods to add books to the library, borrow books, and display available books."
      ],
      "metadata": {
        "id": "rZ7KvcpMKHLA"
      }
    },
    {
      "cell_type": "code",
      "source": [
        "class LibraryCatalog:\n",
        "\n",
        "  def __init__ (self):\n",
        "    self.available_books = {}\n",
        "\n",
        "  def add_books(self,book_id, book_name):\n",
        "    if book_id not in self.available_books:\n",
        "      self.available_books[book_id] = book_name\n",
        "      print(f\"{book_name} is add in Book Catalog\")\n",
        "    else:\n",
        "      print(f\"{book_name} is allrady aveilable in book catalog\")\n",
        "\n",
        "  def borrow_book(self,book_id):\n",
        "    if book_id in self.available_books:\n",
        "      book_name = self.available_books.pop(book_id)\n",
        "      print(f\"{book_name} borrow to you\")\n",
        "    else:\n",
        "      print(f\"{book_id} is Borrow By Somone\")\n",
        "\n",
        "  def display_books(self):\n",
        "    if not self.available_books:\n",
        "      print(\"No Books Availables\")\n",
        "    else:\n",
        "      for book_name in self.available_books.items():\n",
        "        print(f\"Book Name: {book_name}\")\n"
      ],
      "metadata": {
        "id": "FJXspT3TKINj"
      },
      "execution_count": null,
      "outputs": []
    },
    {
      "cell_type": "code",
      "source": [
        "lb = LibraryCatalog()"
      ],
      "metadata": {
        "id": "4PDtj-5UROCZ"
      },
      "execution_count": null,
      "outputs": []
    },
    {
      "cell_type": "code",
      "source": [
        "lb.add_books(\"001\",\"Deth\")\n",
        "lb.add_books(\"002\",\"Life\")\n",
        "lb.add_books(\"003\",\"Don't Overthink\")"
      ],
      "metadata": {
        "colab": {
          "base_uri": "https://localhost:8080/"
        },
        "id": "8n2JEpvnRmuP",
        "outputId": "9981971c-65ee-43cd-9e4c-759dc893328d"
      },
      "execution_count": null,
      "outputs": [
        {
          "output_type": "stream",
          "name": "stdout",
          "text": [
            "Deth is add in Book Catalog\n",
            "Life is add in Book Catalog\n",
            "Don't Overthink is add in Book Catalog\n"
          ]
        }
      ]
    },
    {
      "cell_type": "code",
      "source": [
        "lb.display_books()"
      ],
      "metadata": {
        "colab": {
          "base_uri": "https://localhost:8080/"
        },
        "id": "NPzX1zWLRrxW",
        "outputId": "d27c1fcb-7dac-4f43-c2dd-50baf58639f7"
      },
      "execution_count": null,
      "outputs": [
        {
          "output_type": "stream",
          "name": "stdout",
          "text": [
            "Book Name: ('001', 'Deth')\n",
            "Book Name: ('002', 'Life')\n",
            "Book Name: ('003', \"Don't Overthink\")\n"
          ]
        }
      ]
    },
    {
      "cell_type": "code",
      "source": [
        "lb.borrow_book(\"002\")"
      ],
      "metadata": {
        "colab": {
          "base_uri": "https://localhost:8080/"
        },
        "id": "krC7m1bBTn_B",
        "outputId": "1189c04c-c6c5-482a-a273-c89829fa13d1"
      },
      "execution_count": null,
      "outputs": [
        {
          "output_type": "stream",
          "name": "stdout",
          "text": [
            "Life borrow to you\n"
          ]
        }
      ]
    },
    {
      "cell_type": "code",
      "source": [
        "lb.display_books()"
      ],
      "metadata": {
        "colab": {
          "base_uri": "https://localhost:8080/"
        },
        "id": "GN6njZsKUOfK",
        "outputId": "f304ca54-99cf-4e37-bb84-6c7b8781ee04"
      },
      "execution_count": null,
      "outputs": [
        {
          "output_type": "stream",
          "name": "stdout",
          "text": [
            "Book Name: ('001', 'Deth')\n",
            "Book Name: ('003', \"Don't Overthink\")\n"
          ]
        }
      ]
    },
    {
      "cell_type": "code",
      "source": [
        "lb.borrow_book(\"002\")"
      ],
      "metadata": {
        "colab": {
          "base_uri": "https://localhost:8080/"
        },
        "id": "r4XoycAeURV9",
        "outputId": "39e011fc-2452-42d3-b415-41579f7a98bc"
      },
      "execution_count": null,
      "outputs": [
        {
          "output_type": "stream",
          "name": "stdout",
          "text": [
            "002 is Borrow By Somone\n"
          ]
        }
      ]
    },
    {
      "cell_type": "markdown",
      "source": [
        "# Problem 5: Product Inventory Create classes representing a product and an inventory system. Implement methods to add products to the inventory, update product quantity, and display available products."
      ],
      "metadata": {
        "id": "O1C_-OSDbYOw"
      }
    },
    {
      "cell_type": "code",
      "source": [
        "class Product:\n",
        "\n",
        "  def __init__(self, product_id, name, quantity):\n",
        "    self.product_id = product_id\n",
        "    self.name = name\n",
        "    self.quantity = quantity\n",
        "\n",
        "  def update_quantity(self, new_quantity):\n",
        "    self.quantity = new_quantity\n",
        "\n",
        "  def __str__ (self):\n",
        "    return f\"Product ID: {self.product_id}\\nName: {self.name}\\nQuantity: {self.quantity}\"\n",
        "\n",
        "class InventorySystem:\n",
        "    def __init__(self):\n",
        "        self.inventory = {}\n",
        "\n",
        "    def add_product(self, product):\n",
        "        if product.product_id not in self.inventory:\n",
        "            self.inventory[product.product_id] = product\n",
        "            print(f\"Added {product.name} (Product ID: {product.product_id}) to the inventory.\")\n",
        "        else:\n",
        "            print(f\"Product with ID {product.product_id} already exists in the inventory.\")\n",
        "\n",
        "    def update_quantity(self, product_id, new_quantity):\n",
        "        if product_id in self.inventory:\n",
        "            self.inventory[product_id].update_quantity(new_quantity)\n",
        "            print(f\"Quantity updated for Product ID {product_id} to {new_quantity}.\")\n",
        "        else:\n",
        "            print(f\"Product with ID {product_id} is not in the inventory.\")\n",
        "\n",
        "    def display_available_products(self):\n",
        "        if not self.inventory:\n",
        "            print(\"No products available in the inventory.\")\n",
        "        else:\n",
        "            print(\"Available Products:\")\n",
        "            for product in self.inventory.values():\n",
        "                print(product)\n",
        "\n"
      ],
      "metadata": {
        "id": "2VUTRT6lbbkK"
      },
      "execution_count": 2,
      "outputs": []
    },
    {
      "cell_type": "code",
      "source": [
        "Is = InventorySystem()"
      ],
      "metadata": {
        "id": "fz8kD-xKD7Qw"
      },
      "execution_count": 3,
      "outputs": []
    },
    {
      "cell_type": "code",
      "source": [
        "if __name__ == \"__main__\":\n",
        "  product1 = Product(1, \"Laptop\", 10)\n",
        "  product2 = Product(2, \"Phone\", 20)\n",
        "  product3 = Product(3, \"Hadephone\", 50)"
      ],
      "metadata": {
        "id": "iyxGFMHBEfFZ"
      },
      "execution_count": 12,
      "outputs": []
    },
    {
      "cell_type": "code",
      "source": [
        "Is.add_product(product1)\n",
        "Is.add_product(product2)\n",
        "Is.add_product(product3)"
      ],
      "metadata": {
        "colab": {
          "base_uri": "https://localhost:8080/"
        },
        "id": "9l52uDyJE3vw",
        "outputId": "80a34b20-3b14-481e-ee19-2c85841749ef"
      },
      "execution_count": 14,
      "outputs": [
        {
          "output_type": "stream",
          "name": "stdout",
          "text": [
            "Product with ID 1 already exists in the inventory.\n",
            "Added Phone (Product ID: 2) to the inventory.\n",
            "Added Hadephone (Product ID: 3) to the inventory.\n"
          ]
        }
      ]
    },
    {
      "cell_type": "code",
      "source": [],
      "metadata": {
        "id": "zY5tCDG1FioL"
      },
      "execution_count": null,
      "outputs": []
    },
    {
      "cell_type": "markdown",
      "source": [
        "# Problem 6: Shape Calculation Create a class representing a shape with attributes like length, width, and height. Implement methods to calculate the area and perimeter of the shape"
      ],
      "metadata": {
        "id": "oMpB4rNBGErx"
      }
    },
    {
      "cell_type": "code",
      "source": [
        "class Shape:\n",
        "    def __init__(self, length, width, height):\n",
        "        self.length = length\n",
        "        self.width = width\n",
        "        self.height = height\n",
        "\n",
        "    def calculate_area(self):\n",
        "        pass\n",
        "\n",
        "    def calculate_perimeter(self):\n",
        "        pass\n",
        "\n",
        "class Rectangle(Shape):\n",
        "    def calculate_area(self):\n",
        "        return self.length * self.width\n",
        "\n",
        "    def calculate_perimeter(self):\n",
        "        return 2 * (self.length + self.width)\n",
        "\n",
        "class Triangle(Shape):\n",
        "    def calculate_area(self):\n",
        "        # Using Heron's formula for the area of a triangle\n",
        "        s = (self.length + self.width + self.height) / 2\n",
        "        area = (s * (s - self.length) * (s - self.width) * (s - self.height)) ** 0.5\n",
        "        return area\n",
        "\n",
        "    def calculate_perimeter(self):\n",
        "        return self.length + self.width + self.height"
      ],
      "metadata": {
        "id": "VxWSceWIGFxu"
      },
      "execution_count": 15,
      "outputs": []
    },
    {
      "cell_type": "code",
      "source": [
        "if __name__ == \"__main__\":\n",
        "    # Create a rectangle\n",
        "    rectangle = Rectangle(5, 10, 0)\n",
        "\n",
        "    # Calculate and display area and perimeter of the rectangle\n",
        "    rectangle_area = rectangle.calculate_area()\n",
        "    rectangle_perimeter = rectangle.calculate_perimeter()\n",
        "    print(f\"Rectangle Area: {rectangle_area}\")\n",
        "    print(f\"Rectangle Perimeter: {rectangle_perimeter}\")\n",
        "\n",
        "    # Create a triangle\n",
        "    triangle = Triangle(3, 4, 5)\n",
        "\n",
        "    # Calculate and display area and perimeter of the triangle\n",
        "    triangle_area = triangle.calculate_area()\n",
        "    triangle_perimeter = triangle.calculate_perimeter()\n",
        "    print(f\"Triangle Area: {triangle_area}\")\n",
        "    print(f\"Triangle Perimeter: {triangle_perimeter}\")"
      ],
      "metadata": {
        "colab": {
          "base_uri": "https://localhost:8080/"
        },
        "id": "Baj8TWBRGaEZ",
        "outputId": "9b027d05-932d-44a8-a9c4-2b461b9edffd"
      },
      "execution_count": 16,
      "outputs": [
        {
          "output_type": "stream",
          "name": "stdout",
          "text": [
            "Rectangle Area: 50\n",
            "Rectangle Perimeter: 30\n",
            "Triangle Area: 6.0\n",
            "Triangle Perimeter: 12\n"
          ]
        }
      ]
    },
    {
      "cell_type": "code",
      "source": [],
      "metadata": {
        "id": "_4OPgGsnGcDV"
      },
      "execution_count": null,
      "outputs": []
    },
    {
      "cell_type": "markdown",
      "source": [
        "# Problem 7: Student Management Create a class representing a student with attributes like student ID, name, and grades. Implement methods to calculate the average grade and display student details."
      ],
      "metadata": {
        "id": "VZg43FjfGpqQ"
      }
    },
    {
      "cell_type": "code",
      "source": [
        "class Student:\n",
        "    def __init__(self, student_id, name, grades):\n",
        "        self.student_id = student_id\n",
        "        self.name = name\n",
        "        self.grades = grades\n",
        "\n",
        "    def calculate_average_grade(self):\n",
        "        if len(self.grades) == 0:\n",
        "            return 0  # Return 0 if there are no grades to avoid division by zero.\n",
        "        total = sum(self.grades)\n",
        "        return total / len(self.grades)\n",
        "\n",
        "    def display_student_details(self):\n",
        "        print(f\"Student ID: {self.student_id}\")\n",
        "        print(f\"Name: {self.name}\")\n",
        "        print(\"Grades:\", \", \".join(map(str, self.grades)))\n",
        "        print(f\"Average Grade: {self.calculate_average_grade()}\")"
      ],
      "metadata": {
        "id": "jlQawgxfGuFD"
      },
      "execution_count": 17,
      "outputs": []
    },
    {
      "cell_type": "code",
      "source": [
        "if __name__ == \"__main__\":\n",
        "    student1 = Student(1, \"Ketul\", [90, 85, 78, 92, 88])\n",
        "    student2 = Student(2, \"Shivam\", [95, 89, 72, 94, 87])\n",
        "\n",
        "    # Display student details, including average grade\n",
        "    print(\"Student 1 Details:\")\n",
        "    student1.display_student_details()\n",
        "\n",
        "    print(\"\\nStudent 2 Details:\")\n",
        "    student2.display_student_details()"
      ],
      "metadata": {
        "colab": {
          "base_uri": "https://localhost:8080/"
        },
        "id": "M7kD2Ov6HD1D",
        "outputId": "cab7e7a1-c480-4c56-938f-b991621dd998"
      },
      "execution_count": 19,
      "outputs": [
        {
          "output_type": "stream",
          "name": "stdout",
          "text": [
            "Student 1 Details:\n",
            "Student ID: 1\n",
            "Name: Ketul\n",
            "Grades: 90, 85, 78, 92, 88\n",
            "Average Grade: 86.6\n",
            "\n",
            "Student 2 Details:\n",
            "Student ID: 2\n",
            "Name: Shivam\n",
            "Grades: 95, 89, 72, 94, 87\n",
            "Average Grade: 87.4\n"
          ]
        }
      ]
    },
    {
      "cell_type": "code",
      "source": [],
      "metadata": {
        "id": "Rtak1od-HEfM"
      },
      "execution_count": null,
      "outputs": []
    },
    {
      "cell_type": "markdown",
      "source": [
        "# Problem 8: Email Management Create a class representing an email with attributes like sender, recipient, and subject. Implement methods to send an email and display email details."
      ],
      "metadata": {
        "id": "Ohl8zdysHPII"
      }
    },
    {
      "cell_type": "code",
      "source": [
        "class Email:\n",
        "    def __init__(self, sender, recipient, subject, message):\n",
        "        self.sender = sender\n",
        "        self.recipient = recipient\n",
        "        self.subject = subject\n",
        "        self.message = message\n",
        "        self.sent = False\n",
        "\n",
        "    def send_email(self):\n",
        "        if not self.sent:\n",
        "            print(\"Sending email...\")\n",
        "            self.sent = True\n",
        "        else:\n",
        "            print(\"This email has already been sent.\")\n",
        "\n",
        "    def display_email_details(self):\n",
        "        print(\"Email Details:\")\n",
        "        print(f\"Sender: {self.sender}\")\n",
        "        print(f\"Recipient: {self.recipient}\")\n",
        "        print(f\"Subject: {self.subject}\")\n",
        "        print(\"Message:\")\n",
        "        print(self.message)"
      ],
      "metadata": {
        "id": "en5EqXbvHUyR"
      },
      "execution_count": 20,
      "outputs": []
    },
    {
      "cell_type": "code",
      "source": [
        "if __name__ == \"__main__\":\n",
        "    sender = \"Ketul@example.com\"\n",
        "    recipient = \"Lagad@example.com\"\n",
        "    subject = \"Meeting Tomorrow\"\n",
        "    message = \"Hi Lagad, let's meet at 10 AM tomorrow to discuss the project.\"\n",
        "\n",
        "    email = Email(sender, recipient, subject, message)\n",
        "\n",
        "    # Send the email\n",
        "    email.send_email()\n",
        "\n",
        "    # Display email details\n",
        "    email.display_email_details()\n",
        "\n",
        "    # Try sending the email again\n",
        "    email.send_email()"
      ],
      "metadata": {
        "colab": {
          "base_uri": "https://localhost:8080/"
        },
        "id": "Xjq9BUZSHvRL",
        "outputId": "b2d7d713-00dc-40d0-804a-882f29822dc1"
      },
      "execution_count": 22,
      "outputs": [
        {
          "output_type": "stream",
          "name": "stdout",
          "text": [
            "Sending email...\n",
            "Email Details:\n",
            "Sender: Ketul@example.com\n",
            "Recipient: Lagad@example.com\n",
            "Subject: Meeting Tomorrow\n",
            "Message:\n",
            "Hi Lagad, let's meet at 10 AM tomorrow to discuss the project.\n",
            "This email has already been sent.\n"
          ]
        }
      ]
    },
    {
      "cell_type": "code",
      "source": [],
      "metadata": {
        "id": "JM2zFnqNH3ez"
      },
      "execution_count": null,
      "outputs": []
    },
    {
      "cell_type": "markdown",
      "source": [
        "#Problem 9: Social Media Profile Create a class representing a social media profile with attributes like username and posts. Implement methods to add posts, display posts, and search for posts by keyword."
      ],
      "metadata": {
        "id": "ur1rIIZCIAcA"
      }
    },
    {
      "cell_type": "code",
      "source": [
        "class SocialMediaProfile:\n",
        "    def __init__(self, username):\n",
        "        self.username = username\n",
        "        self.posts = []\n",
        "\n",
        "    def add_post(self, content):\n",
        "        self.posts.append(content)\n",
        "        print(f\"New post added to {self.username}'s profile.\")\n",
        "\n",
        "    def display_posts(self):\n",
        "        if not self.posts:\n",
        "            print(f\"{self.username}'s profile has no posts.\")\n",
        "        else:\n",
        "            print(f\"{self.username}'s Posts:\")\n",
        "            for i, post in enumerate(self.posts, 1):\n",
        "                print(f\"{i}. {post}\")\n",
        "\n",
        "    def search_posts(self, keyword):\n",
        "        matching_posts = [post for post in self.posts if keyword in post]\n",
        "        if not matching_posts:\n",
        "            print(f\"No posts found containing the keyword '{keyword}'.\")\n",
        "        else:\n",
        "            print(f\"Posts containing the keyword '{keyword}':\")\n",
        "            for i, post in enumerate(matching_posts, 1):\n",
        "                print(f\"{i}. {post}\")"
      ],
      "metadata": {
        "id": "YY2dWwy2IBGp"
      },
      "execution_count": 23,
      "outputs": []
    },
    {
      "cell_type": "code",
      "source": [
        "if __name__ == \"__main__\":\n",
        "  profile1 = SocialMediaProfile(\"ketulluhar\")\n",
        "\n",
        "  # Add posts to the profile\n",
        "  profile1.add_post(\"Having a great day at the beach!\")\n",
        "  profile1.add_post(\"Just finished reading a good book.\")\n",
        "  profile1.add_post(\"Lunch with friends was amazing!\")\n",
        "\n",
        "  # Display the posts on the profile\n",
        "  profile1.display_posts()\n",
        "\n",
        "  # Search for posts containing a keyword\n",
        "  profile1.search_posts(\"great\")\n",
        "  profile1.search_posts(\"friends\")\n",
        "  profile1.search_posts(\"music\")"
      ],
      "metadata": {
        "colab": {
          "base_uri": "https://localhost:8080/"
        },
        "id": "1o7SI3RQIGZg",
        "outputId": "e0fe80cd-7924-4e6d-a992-819f68a8682b"
      },
      "execution_count": 25,
      "outputs": [
        {
          "output_type": "stream",
          "name": "stdout",
          "text": [
            "New post added to ketulluhar's profile.\n",
            "New post added to ketulluhar's profile.\n",
            "New post added to ketulluhar's profile.\n",
            "ketulluhar's Posts:\n",
            "1. Having a great day at the beach!\n",
            "2. Just finished reading a good book.\n",
            "3. Lunch with friends was amazing!\n",
            "Posts containing the keyword 'great':\n",
            "1. Having a great day at the beach!\n",
            "Posts containing the keyword 'friends':\n",
            "1. Lunch with friends was amazing!\n",
            "No posts found containing the keyword 'music'.\n"
          ]
        }
      ]
    },
    {
      "cell_type": "code",
      "source": [],
      "metadata": {
        "id": "CJYvMA4uIH9F"
      },
      "execution_count": null,
      "outputs": []
    },
    {
      "cell_type": "markdown",
      "source": [
        "# Problem 10: ToDo List Create a class representing a ToDo list with attributes like tasks and due dates. Implement methods to add tasks, mark tasks as completed, and display pending tasks"
      ],
      "metadata": {
        "id": "XaU7UQo7IdqL"
      }
    },
    {
      "cell_type": "code",
      "source": [
        "class ToDoList:\n",
        "    def __init__(self):\n",
        "        self.tasks = []\n",
        "\n",
        "    def add_task(self, task, due_date):\n",
        "        self.tasks.append({\"task\": task, \"due_date\": due_date, \"completed\": False})\n",
        "        print(f\"Task '{task}' added to the ToDo list with a due date of {due_date}.\")\n",
        "\n",
        "    def mark_task_as_completed(self, task):\n",
        "        for t in self.tasks:\n",
        "            if t[\"task\"] == task:\n",
        "                t[\"completed\"] = True\n",
        "                print(f\"Task '{task}' marked as completed.\")\n",
        "                return\n",
        "        print(f\"Task '{task}' not found in the ToDo list.\")\n",
        "\n",
        "    def display_pending_tasks(self):\n",
        "        pending_tasks = [t for t in self.tasks if not t[\"completed\"]]\n",
        "        if not pending_tasks:\n",
        "            print(\"No pending tasks in the ToDo list.\")\n",
        "        else:\n",
        "            print(\"Pending Tasks:\")\n",
        "            for t in pending_tasks:\n",
        "                print(f\"Task: {t['task']} (Due Date: {t['due_date']})\")"
      ],
      "metadata": {
        "id": "YsPbt5foIeUF"
      },
      "execution_count": 26,
      "outputs": []
    },
    {
      "cell_type": "code",
      "source": [
        "if __name__ == \"__main__\":\n",
        "    todo_list = ToDoList()\n",
        "\n",
        "    # Add tasks to the ToDo list\n",
        "    todo_list.add_task(\"Buy groceries\", \"2023-10-15\")\n",
        "    todo_list.add_task(\"Finish Pw Assigment\", \"2023-10-20\")\n",
        "    todo_list.add_task(\"Upload Pw Assigment\", \"2023-10-18\")\n",
        "\n",
        "    # Display pending tasks\n",
        "    todo_list.display_pending_tasks()\n",
        "\n",
        "    # Mark a task as completed\n",
        "    todo_list.mark_task_as_completed(\"Buy groceries\")\n",
        "\n",
        "    # Display pending tasks after marking one as completed\n",
        "    todo_list.display_pending_tasks()"
      ],
      "metadata": {
        "colab": {
          "base_uri": "https://localhost:8080/"
        },
        "id": "1VjQZsXNIg9K",
        "outputId": "041934d8-11ca-4f77-c92d-2fde3765501f"
      },
      "execution_count": 27,
      "outputs": [
        {
          "output_type": "stream",
          "name": "stdout",
          "text": [
            "Task 'Buy groceries' added to the ToDo list with a due date of 2023-10-15.\n",
            "Task 'Finish Pw Assigment' added to the ToDo list with a due date of 2023-10-20.\n",
            "Task 'Upload Pw Assigment' added to the ToDo list with a due date of 2023-10-18.\n",
            "Pending Tasks:\n",
            "Task: Buy groceries (Due Date: 2023-10-15)\n",
            "Task: Finish Pw Assigment (Due Date: 2023-10-20)\n",
            "Task: Upload Pw Assigment (Due Date: 2023-10-18)\n",
            "Task 'Buy groceries' marked as completed.\n",
            "Pending Tasks:\n",
            "Task: Finish Pw Assigment (Due Date: 2023-10-20)\n",
            "Task: Upload Pw Assigment (Due Date: 2023-10-18)\n"
          ]
        }
      ]
    },
    {
      "cell_type": "code",
      "source": [],
      "metadata": {
        "id": "jLt30a9DIp3M"
      },
      "execution_count": null,
      "outputs": []
    }
  ]
}